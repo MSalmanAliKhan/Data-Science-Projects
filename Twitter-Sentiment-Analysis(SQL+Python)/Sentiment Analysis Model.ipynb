{
 "cells": [
  {
   "cell_type": "markdown",
   "metadata": {},
   "source": [
    "<h2> Sentiment Analysis Model </h2>"
   ]
  },
  {
   "cell_type": "markdown",
   "metadata": {},
   "source": [
    "<h3> Importing the Packages </h3>"
   ]
  },
  {
   "cell_type": "code",
   "execution_count": 25,
   "metadata": {},
   "outputs": [],
   "source": [
    "import pandas as pd\n",
    "import numpy as np\n",
    "from langdetect import detect\n",
    "from langdetect import lang_detect_exception\n",
    "from sklearn.feature_extraction.text import TfidfVectorizer\n",
    "from sklearn.model_selection import train_test_split\n",
    "from sklearn.naive_bayes import MultinomialNB\n",
    "from sklearn.metrics import accuracy_score, precision_score, recall_score, f1_score, confusion_matrix\n",
    "from sklearn.metrics import confusion_matrix, ConfusionMatrixDisplay \n",
    "import matplotlib.pyplot as plt\n",
    "from tabulate import tabulate\n",
    "from prettytable import PrettyTable"
   ]
  },
  {
   "cell_type": "markdown",
   "metadata": {},
   "source": [
    "<h3>Importing Datasets</h3>"
   ]
  },
  {
   "cell_type": "code",
   "execution_count": 2,
   "metadata": {},
   "outputs": [],
   "source": [
    "#This cell reads the two CSV source files and stores them in DataFrames named Tweet_Train and Tweet_Test.\n",
    "Tweet_Train = pd.DataFrame(pd.read_csv('twitter_training.csv'))\n",
    "Tweet_Test = pd.DataFrame(pd.read_csv('twitter_validation.csv'))"
   ]
  },
  {
   "cell_type": "markdown",
   "metadata": {},
   "source": [
    "<h3> Data Cleaning</h3>"
   ]
  },
  {
   "cell_type": "code",
   "execution_count": 3,
   "metadata": {},
   "outputs": [],
   "source": [
    "#To rename the columns of the Tweet_Train and Tweet_Test DataFrames. \n",
    "headers=['Tweet ID', 'Entity', 'Sentiment', 'Content']\n",
    "Tweet_Train.columns = headers\n",
    "Tweet_Test.columns = headers"
   ]
  },
  {
   "cell_type": "code",
   "execution_count": 7,
   "metadata": {},
   "outputs": [
    {
     "data": {
      "text/plain": [
       "(74681, 4)"
      ]
     },
     "execution_count": 7,
     "metadata": {},
     "output_type": "execute_result"
    }
   ],
   "source": [
    "Tweet_Train.shape"
   ]
  },
  {
   "cell_type": "code",
   "execution_count": 8,
   "metadata": {},
   "outputs": [
    {
     "data": {
      "text/plain": [
       "(999, 4)"
      ]
     },
     "execution_count": 8,
     "metadata": {},
     "output_type": "execute_result"
    }
   ],
   "source": [
    "Tweet_Test.shape"
   ]
  },
  {
   "cell_type": "code",
   "execution_count": 4,
   "metadata": {},
   "outputs": [
    {
     "data": {
      "text/plain": [
       "(69490, 4)"
      ]
     },
     "execution_count": 4,
     "metadata": {},
     "output_type": "execute_result"
    }
   ],
   "source": [
    "#To remove duplicate values\n",
    "Tweet_Train[Tweet_Train.duplicated(subset=['Content'], keep=False)]\n",
    "Tweet_Train_Clean= Tweet_Train.drop_duplicates(subset=['Content'], keep='first')\n",
    "#To remove missing values\n",
    "Tweet_Train_Clean=Tweet_Train_Clean.dropna()\n",
    "#To get the number of rows and columns in the clean dataset\n",
    "Tweet_Train_Clean.shape"
   ]
  },
  {
   "cell_type": "code",
   "execution_count": 5,
   "metadata": {},
   "outputs": [
    {
     "data": {
      "text/plain": [
       "(998, 4)"
      ]
     },
     "execution_count": 5,
     "metadata": {},
     "output_type": "execute_result"
    }
   ],
   "source": [
    "#To remove duplicate values\n",
    "Tweet_Test[Tweet_Test.duplicated(subset=['Content'], keep=False)]\n",
    "Tweet_Test_Clean= Tweet_Test.drop_duplicates(subset=['Content'], keep='first')\n",
    "#To remove missing values\n",
    "Tweet_Test_Clean=Tweet_Test_Clean.dropna()\n",
    "#To get the number of rows and columns in the clean dataset\n",
    "Tweet_Test_Clean.shape"
   ]
  },
  {
   "cell_type": "markdown",
   "metadata": {},
   "source": [
    "<h3> Data Transformation </h3>"
   ]
  },
  {
   "cell_type": "code",
   "execution_count": 10,
   "metadata": {},
   "outputs": [],
   "source": [
    "# To create a function to detect the language of a tweet and map to full language names\n",
    "def detect_language(tweet):\n",
    "    try:\n",
    "        lang_code = detect(tweet)\n",
    "        # Create a dictionary to map language abbreviations to full names\n",
    "        language_mapping = {\n",
    "            \"af\": \"Afrikaans\",\n",
    "            \"bg\": \"Bulgarian\",\n",
    "            \"ca\": \"Catalan\",\n",
    "            \"cs\": \"Czech\",\n",
    "            \"cy\": \"Welsh\",\n",
    "            \"da\": \"Danish\",\n",
    "            \"de\": \"German\",\n",
    "            \"en\": \"English\",\n",
    "            \"es\": \"Spanish\",\n",
    "            \"et\": \"Estonian\",\n",
    "            \"fi\": \"Finnish\",\n",
    "            \"fr\": \"French\",\n",
    "            \"hr\": \"Croatian\",\n",
    "            \"hu\": \"Hungarian\",\n",
    "            \"id\": \"Indonesian\",\n",
    "            \"it\": \"Italian\",\n",
    "            \"lt\": \"Lithuanian\",\n",
    "            \"lv\": \"Latvian\",\n",
    "            \"mk\": \"Macedonian\",\n",
    "            \"nl\": \"Dutch\",\n",
    "            \"no\": \"Norwegian\",\n",
    "            \"pl\": \"Polish\",\n",
    "            \"pt\": \"Portuguese\",\n",
    "            \"ro\": \"Romanian\",\n",
    "            \"ru\": \"Russian\",\n",
    "            \"sk\": \"Slovak\",\n",
    "            \"sl\": \"Slovenian\",\n",
    "            \"so\": \"Somali\",\n",
    "            \"sq\": \"Albanian\",\n",
    "            \"sv\": \"Swedish\",\n",
    "            \"sw\": \"Swahili\",\n",
    "            \"th\": \"Thai\",\n",
    "            \"tl\": \"Tagalog\",\n",
    "            \"tr\": \"Turkish\",\n",
    "            \"uk\": \"Ukrainian\",\n",
    "            \"vi\": \"Vietnamese\"\n",
    "        }\n",
    "        return language_mapping.get(lang_code, \"Unknown\")\n",
    "    except lang_detect_exception.LangDetectException:\n",
    "        return \"Unknown\"\n",
    "\n",
    "# Apply the function to each tweet in the \"Content\" column and create a new \"Language\" column\n",
    "Tweet_Train_Clean[\"Language\"] = Tweet_Train_Clean[\"Content\"].apply(detect_language)\n",
    "\n",
    "# Apply the function to each tweet in the \"Content\" column and create a new \"Language\" column\n",
    "Tweet_Test_Clean[\"Language\"] = Tweet_Test_Clean[\"Content\"].apply(detect_language)"
   ]
  },
  {
   "cell_type": "markdown",
   "metadata": {},
   "source": [
    "<h3> Data Model </h3>"
   ]
  },
  {
   "cell_type": "code",
   "execution_count": 26,
   "metadata": {},
   "outputs": [
    {
     "name": "stdout",
     "output_type": "stream",
     "text": [
      "\n",
      "Validation Set Metrics:\n",
      "+-----------+-------+\n",
      "| Metric    | Value |\n",
      "+-----------+-------+\n",
      "| Accuracy  |  0.73 |\n",
      "| Precision |  0.77 |\n",
      "| Recall    |  0.73 |\n",
      "| F1 Score  |  0.72 |\n",
      "+-----------+-------+\n",
      "\n",
      "Test Set Metrics:\n",
      "+-----------+-------+\n",
      "| Metric    | Value |\n",
      "+-----------+-------+\n",
      "| Accuracy  |  0.77 |\n",
      "| Precision |  0.81 |\n",
      "| Recall    |  0.77 |\n",
      "| F1 Score  |  0.77 |\n",
      "+-----------+-------+\n"
     ]
    },
    {
     "data": {
      "image/png": "[encoded data removed]",
      "text/plain": [
       "<Figure size 640x480 with 2 Axes>"
      ]
     },
     "metadata": {},
     "output_type": "display_data"
    }
   ],
   "source": [
    "# Load the training and testing data\n",
    "train_data = Tweet_Train_Clean\n",
    "test_data = Tweet_Test_Clean\n",
    "\n",
    "# Create a TF-IDF vectorizer to convert text data into numerical features\n",
    "tfidf_vectorizer = TfidfVectorizer()\n",
    "\n",
    "# Fit and transform the vectorizer on the training data\n",
    "X_train = tfidf_vectorizer.fit_transform(train_data[\"Content\"])\n",
    "\n",
    "# Transform the testing data using the same vectorizer\n",
    "X_test = tfidf_vectorizer.transform(test_data[\"Content\"])\n",
    "\n",
    "# Define the target variable\n",
    "y_train = train_data[\"Sentiment\"]\n",
    "y_test = test_data[\"Sentiment\"]\n",
    "\n",
    "# Split the training data into training and validation sets (you can adjust the test_size)\n",
    "X_train, X_val, y_train, y_val = train_test_split(X_train, y_train, test_size=0.2, random_state=42)\n",
    "\n",
    "# Create a classification model (Naive Bayes is used in this example)\n",
    "model = MultinomialNB()\n",
    "\n",
    "# Train the model on the training data\n",
    "model.fit(X_train, y_train)\n",
    "\n",
    "# Predict sentiment on the validation set\n",
    "y_val_pred = model.predict(X_val)\n",
    "\n",
    "# Evaluate the model on the validation set\n",
    "accuracy = accuracy_score(y_val, y_val_pred)\n",
    "precision = precision_score(y_val, y_val_pred, average='weighted')\n",
    "recall = recall_score(y_val, y_val_pred, average='weighted')\n",
    "f1 = f1_score(y_val, y_val_pred, average='weighted')\n",
    "\n",
    "# Predict sentiment on the test set\n",
    "y_test_pred = model.predict(X_test)\n",
    "\n",
    "# Evaluate the model on the test set\n",
    "accuracy = accuracy_score(y_test, y_test_pred)\n",
    "precision = precision_score(y_test, y_test_pred, average='weighted')\n",
    "recall = recall_score(y_test, y_test_pred, average='weighted')\n",
    "f1 = f1_score(y_test, y_test_pred, average='weighted')\n",
    "\n",
    "# Predict sentiment on the validation set\n",
    "y_val_pred = model.predict(X_val)\n",
    "\n",
    "# Evaluate the model on the validation set\n",
    "accuracy_val = accuracy_score(y_val, y_val_pred)\n",
    "precision_val = precision_score(y_val, y_val_pred, average='weighted')\n",
    "recall_val = recall_score(y_val, y_val_pred, average='weighted')\n",
    "f1_val = f1_score(y_val, y_val_pred, average='weighted')\n",
    "\n",
    "# Predict sentiment on the test set\n",
    "y_test_pred = model.predict(X_test)\n",
    "\n",
    "# Evaluate the model on the test set\n",
    "accuracy_test = accuracy_score(y_test, y_test_pred)\n",
    "precision_test = precision_score(y_test, y_test_pred, average='weighted')\n",
    "recall_test = recall_score(y_test, y_test_pred, average='weighted')\n",
    "f1_test = f1_score(y_test, y_test_pred, average='weighted')\n",
    "\n",
    "# Create PrettyTable objects for validation and test set metrics\n",
    "validation_metrics_table = PrettyTable()\n",
    "validation_metrics_table.field_names = [\"Metric\", \"Value\"]\n",
    "validation_metrics_table.add_row([\"Accuracy\", f\"{accuracy_val:.2f}\"])\n",
    "validation_metrics_table.add_row([\"Precision\", f\"{precision_val:.2f}\"])\n",
    "validation_metrics_table.add_row([\"Recall\", f\"{recall_val:.2f}\"])\n",
    "validation_metrics_table.add_row([\"F1 Score\", f\"{f1_val:.2f}\"])\n",
    "\n",
    "test_metrics_table = PrettyTable()\n",
    "test_metrics_table.field_names = [\"Metric\", \"Value\"]\n",
    "test_metrics_table.add_row([\"Accuracy\", f\"{accuracy_test:.2f}\"])\n",
    "test_metrics_table.add_row([\"Precision\", f\"{precision_test:.2f}\"])\n",
    "test_metrics_table.add_row([\"Recall\", f\"{recall_test:.2f}\"])\n",
    "test_metrics_table.add_row([\"F1 Score\", f\"{f1_test:.2f}\"])\n",
    "\n",
    "# Define table formatting\n",
    "def format_table(table):\n",
    "    table.align[\"Metric\"] = \"l\"\n",
    "    table.align[\"Value\"] = \"c\"\n",
    "\n",
    "# Apply formatting to the tables\n",
    "format_table(validation_metrics_table)\n",
    "format_table(test_metrics_table)\n",
    "\n",
    "# Display the tables with specified formatting\n",
    "print(\"\\nValidation Set Metrics:\")\n",
    "print(validation_metrics_table)\n",
    "print(\"\\nTest Set Metrics:\")\n",
    "print(test_metrics_table)\n",
    "\n",
    "# Create and display the confusion matrix for the test set using the provided function\n",
    "def conf_matrix_plot(model, x_data, y_data):\n",
    "    '''\n",
    "    Accepts as argument model object, X data (test or validate), and y data (test or validate). \n",
    "    Return a plot of the confusion matrix for predictions on y data.\n",
    "    '''\n",
    "    model_pred = model.predict(x_data)\n",
    "    cm = confusion_matrix(y_data, model_pred, labels=model.classes_)\n",
    "    disp = ConfusionMatrixDisplay(confusion_matrix=cm, display_labels=model.classes_)\n",
    "  \n",
    "    disp.plot(values_format='')  # `values_format=''` suppresses scientific notation\n",
    "    plt.show()\n",
    "\n",
    "# Display the confusion matrix for the test set\n",
    "conf_matrix_plot(model, X_test, y_test)\n"
   ]
  },
  {
   "cell_type": "code",
   "execution_count": null,
   "metadata": {},
   "outputs": [],
   "source": []
  }
 ],
 "metadata": {
  "kernelspec": {
   "display_name": "Python 3",
   "language": "python",
   "name": "python3"
  },
  "language_info": {
   "codemirror_mode": {
    "name": "ipython",
    "version": 3
   },
   "file_extension": ".py",
   "mimetype": "text/x-python",
   "name": "python",
   "nbconvert_exporter": "python",
   "pygments_lexer": "ipython3",
   "version": "3.11.5"
  }
 },
 "nbformat": 4,
 "nbformat_minor": 2
}
